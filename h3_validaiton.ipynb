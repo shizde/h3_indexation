{
 "cells": [
  {
   "cell_type": "code",
   "id": "initial_id",
   "metadata": {
    "collapsed": true,
    "ExecuteTime": {
     "end_time": "2025-04-25T10:30:43.889070Z",
     "start_time": "2025-04-25T10:30:40.215277Z"
    }
   },
   "source": [
    "import pandas as pd\n",
    "import h3\n",
    "import folium\n",
    "from folium.plugins import HeatMap\n",
    "import matplotlib.pyplot as plt\n",
    "import numpy as np\n",
    "import geopandas as gpd\n",
    "from shapely.geometry import Polygon\n",
    "import json\n",
    "from collections import Counter"
   ],
   "outputs": [],
   "execution_count": 1
  },
  {
   "metadata": {
    "ExecuteTime": {
     "end_time": "2025-04-25T10:30:43.945260Z",
     "start_time": "2025-04-25T10:30:43.929022Z"
    }
   },
   "cell_type": "code",
   "source": [
    "def load_data(file_path):\n",
    "    \"\"\"Load the CSV data and handle any preprocessing needs\"\"\"\n",
    "    print(f\"Loading data from {file_path}...\")\n",
    "    df = pd.read_csv(file_path)\n",
    "\n",
    "    # Check for missing values in latitude/longitude\n",
    "    missing_coords = df[df['latitude'].isna() | df['longitude'].isna()]\n",
    "    if not missing_coords.empty:\n",
    "        print(f\"Warning: Found {len(missing_coords)} records with missing coordinates.\")\n",
    "        # Drop rows with missing coordinates if needed\n",
    "        df = df.dropna(subset=['latitude', 'longitude'])\n",
    "\n",
    "    print(f\"Loaded {len(df)} records with valid coordinates.\")\n",
    "\n",
    "    # Basic data statistics\n",
    "    print(\"\\nData Overview:\")\n",
    "    print(f\"Latitude range: {df['latitude'].min()} to {df['latitude'].max()}\")\n",
    "    print(f\"Longitude range: {df['longitude'].min()} to {df['longitude'].max()}\")\n",
    "\n",
    "    # Display country distribution\n",
    "    country_counts = df['country'].value_counts().head(10)\n",
    "    print(\"\\nTop 10 countries by restaurant count:\")\n",
    "    print(country_counts)\n",
    "\n",
    "    # Display cuisine distribution\n",
    "    cuisine_counts = df['Rcuisine'].value_counts().head(10)\n",
    "    print(\"\\nTop 10 cuisines:\")\n",
    "    print(cuisine_counts)\n",
    "\n",
    "    return df"
   ],
   "id": "aa2609d2242d4115",
   "outputs": [],
   "execution_count": 2
  },
  {
   "metadata": {
    "ExecuteTime": {
     "end_time": "2025-04-25T10:30:44.266098Z",
     "start_time": "2025-04-25T10:30:44.256855Z"
    }
   },
   "cell_type": "code",
   "source": [
    "def add_h3_indices(df, resolutions=[7, 8, 9, 10]):\n",
    "    \"\"\"Add H3 indices at specified resolution levels to the dataframe\"\"\"\n",
    "    print(f\"\\nGenerating H3 indices at resolutions: {resolutions}...\")\n",
    "\n",
    "    # Create a copy of the dataframe to avoid modifying the original\n",
    "    df_h3 = df.copy()\n",
    "\n",
    "    # Add H3 index columns for each resolution\n",
    "    for res in resolutions:\n",
    "        col_name = f'h3_index_{res}'\n",
    "        df_h3[col_name] = df_h3.apply(\n",
    "            lambda row: h3.geo_to_h3(row['latitude'], row['longitude'], res),\n",
    "            axis=1\n",
    "        )\n",
    "\n",
    "        # Count unique hexagons at this resolution\n",
    "        unique_hexagons = df_h3[col_name].nunique()\n",
    "        print(f\"Resolution {res}: {unique_hexagons} unique hexagons\")\n",
    "\n",
    "    return df_h3"
   ],
   "id": "83983fba8b343f3e",
   "outputs": [],
   "execution_count": 3
  },
  {
   "metadata": {
    "ExecuteTime": {
     "end_time": "2025-04-25T10:30:44.363964Z",
     "start_time": "2025-04-25T10:30:44.347982Z"
    }
   },
   "cell_type": "code",
   "source": [
    "def analyze_h3_distribution(df_h3, resolution=9):\n",
    "    \"\"\"Analyze the distribution of restaurants across H3 cells\"\"\"\n",
    "    h3_col = f'h3_index_{resolution}'\n",
    "\n",
    "    # Count restaurants per H3 cell\n",
    "    h3_counts = df_h3[h3_col].value_counts()\n",
    "\n",
    "    print(f\"\\nAnalyzing restaurant distribution at resolution {resolution}:\")\n",
    "    print(f\"Total unique H3 cells: {len(h3_counts)}\")\n",
    "    print(f\"Maximum restaurants in a single cell: {h3_counts.max()}\")\n",
    "    print(f\"Average restaurants per occupied cell: {h3_counts.mean():.2f}\")\n",
    "\n",
    "    # Define density categories\n",
    "    density_categories = {\n",
    "        'Very Low (1)': 1,\n",
    "        'Low (2-5)': 2,\n",
    "        'Medium (6-20)': 6,\n",
    "        'High (21-100)': 21,\n",
    "        'Very High (100+)': 100\n",
    "    }\n",
    "\n",
    "    # Categorize cells by restaurant density\n",
    "    density_counts = {}\n",
    "    prev_threshold = 0\n",
    "    for category, threshold in density_categories.items():\n",
    "        count = ((h3_counts >= prev_threshold) & (h3_counts < threshold)).sum()\n",
    "        if category == list(density_categories.keys())[-1]:  # For the last category (100+)\n",
    "            count = (h3_counts >= threshold).sum()\n",
    "        density_counts[category] = count\n",
    "        prev_threshold = threshold\n",
    "\n",
    "    print(\"\\nH3 cell density distribution:\")\n",
    "    for category, count in density_counts.items():\n",
    "        percentage = (count / len(h3_counts)) * 100\n",
    "        print(f\"{category}: {count} cells ({percentage:.1f}%)\")\n",
    "\n",
    "    # Return the full distribution data for potential visualization\n",
    "    return h3_counts"
   ],
   "id": "3f53a76af3268ce0",
   "outputs": [],
   "execution_count": 4
  },
  {
   "metadata": {
    "ExecuteTime": {
     "end_time": "2025-04-25T10:30:44.503761Z",
     "start_time": "2025-04-25T10:30:44.489137Z"
    }
   },
   "cell_type": "code",
   "source": [
    "def visualize_h3_hexagons(df_h3, resolution=9, max_hexagons=1000):\n",
    "    \"\"\"Create a folium map visualizing H3 hexagons with restaurant density\"\"\"\n",
    "    h3_col = f'h3_index_{resolution}'\n",
    "\n",
    "    # Get the most populated hexagons for visualization\n",
    "    h3_counts = df_h3[h3_col].value_counts()\n",
    "\n",
    "    # Limit to max_hexagons to avoid browser performance issues\n",
    "    if len(h3_counts) > max_hexagons:\n",
    "        print(f\"\\nLimiting visualization to the {max_hexagons} most populated hexagons.\")\n",
    "        h3_counts = h3_counts.head(max_hexagons)\n",
    "\n",
    "    # Calculate the center point for the map based on data median\n",
    "    center_lat = df_h3['latitude'].median()\n",
    "    center_lng = df_h3['longitude'].median()\n",
    "\n",
    "    # Create a map\n",
    "    m = folium.Map(location=[center_lat, center_lng], zoom_start=4)\n",
    "\n",
    "    # Add hexagons to the map\n",
    "    for h3_index, count in h3_counts.items():\n",
    "        # Get hexagon boundary as a list of [lat, lng] pairs\n",
    "        boundary = h3.h3_to_geo_boundary(h3_index, geo_json=True)\n",
    "\n",
    "        # Calculate color based on restaurant count (using a simple scale)\n",
    "        color = get_color_for_count(count, h3_counts.max())\n",
    "\n",
    "        # Create a polygon for each hexagon\n",
    "        folium.Polygon(\n",
    "            locations=boundary,\n",
    "            tooltip=f\"H3 Index: {h3_index}<br>Restaurant Count: {count}\",\n",
    "            fill=True,\n",
    "            fill_color=color,\n",
    "            fill_opacity=0.6,\n",
    "            color='black',\n",
    "            weight=1\n",
    "        ).add_to(m)\n",
    "\n",
    "    # Add a heatmap layer\n",
    "    heat_data = [[row['latitude'], row['longitude']] for _, row in df_h3.iterrows()]\n",
    "    HeatMap(heat_data, radius=10).add_to(m)\n",
    "\n",
    "    # Save the map\n",
    "    output_file = f\"restaurant_h3_map_res{resolution}.html\"\n",
    "    m.save(output_file)\n",
    "    print(f\"\\nMap saved to {output_file}\")\n",
    "\n",
    "    return output_file"
   ],
   "id": "f0c44cd7ed898652",
   "outputs": [],
   "execution_count": 5
  },
  {
   "metadata": {
    "ExecuteTime": {
     "end_time": "2025-04-25T10:30:46.183975Z",
     "start_time": "2025-04-25T10:30:46.178235Z"
    }
   },
   "cell_type": "code",
   "source": [
    "def get_color_for_count(count, max_count):\n",
    "    \"\"\"Generate a color on a red-yellow-green scale based on count\"\"\"\n",
    "    # Scale from 0 to 1\n",
    "    ratio = count / max_count\n",
    "\n",
    "    # Create a color scale (green for low, yellow for medium, red for high)\n",
    "    if ratio < 0.1:\n",
    "        return 'darkgreen'\n",
    "    elif ratio < 0.3:\n",
    "        return 'green'\n",
    "    elif ratio < 0.5:\n",
    "        return 'lightgreen'\n",
    "    elif ratio < 0.7:\n",
    "        return 'yellow'\n",
    "    elif ratio < 0.9:\n",
    "        return 'orange'\n",
    "    else:\n",
    "        return 'red'"
   ],
   "id": "c5001601b8717fc5",
   "outputs": [],
   "execution_count": 6
  },
  {
   "metadata": {
    "ExecuteTime": {
     "end_time": "2025-04-25T10:30:46.499758Z",
     "start_time": "2025-04-25T10:30:46.485644Z"
    }
   },
   "cell_type": "code",
   "source": [
    "def query_restaurants_in_h3_cell(df_h3, h3_index):\n",
    "    \"\"\"Query all restaurants that fall within a specific H3 cell\"\"\"\n",
    "    # Extract the resolution from the H3 index\n",
    "    resolution = h3.h3_get_resolution(h3_index)\n",
    "    h3_col = f'h3_index_{resolution}'\n",
    "\n",
    "    # Check if the column exists, if not, add it\n",
    "    if h3_col not in df_h3.columns:\n",
    "        df_h3[h3_col] = df_h3.apply(\n",
    "            lambda row: h3.geo_to_h3(row['latitude'], row['longitude'], resolution),\n",
    "            axis=1\n",
    "        )\n",
    "\n",
    "    # Filter the dataframe\n",
    "    restaurants_in_cell = df_h3[df_h3[h3_col] == h3_index]\n",
    "\n",
    "    print(f\"\\nFound {len(restaurants_in_cell)} restaurants in H3 cell {h3_index}:\")\n",
    "    if not restaurants_in_cell.empty:\n",
    "        print(restaurants_in_cell[['name', 'country', 'Rcuisine']].head(10))\n",
    "        if len(restaurants_in_cell) > 10:\n",
    "            print(f\"...and {len(restaurants_in_cell) - 10} more.\")\n",
    "\n",
    "    return restaurants_in_cell"
   ],
   "id": "f5dcf55504244341",
   "outputs": [],
   "execution_count": 7
  },
  {
   "metadata": {
    "ExecuteTime": {
     "end_time": "2025-04-25T10:30:50.113095Z",
     "start_time": "2025-04-25T10:30:50.091477Z"
    }
   },
   "cell_type": "code",
   "source": [
    "def perform_spatial_analysis(df_h3, point_lat, point_lng, radius_km=5, resolution=9):\n",
    "    \"\"\"Find restaurants within a given radius of a point using H3 k-rings\"\"\"\n",
    "    # Convert the point to an H3 index\n",
    "    center_h3 = h3.geo_to_h3(point_lat, point_lng, resolution)\n",
    "\n",
    "    # Get H3 indexes within the radius (k-ring)\n",
    "    # Calculate k (number of rings) based on radius and resolution\n",
    "    # Hexagon size varies by resolution, so we need to approximate\n",
    "    # Average hexagon edge length at resolution 9 is ~174m\n",
    "    # Formula: k = ceiling(radius_km * 1000 / (hex_edge_length * 2))\n",
    "\n",
    "    # Approximate conversion from km to number of rings\n",
    "    # This is a rough estimate and may need adjustment based on actual geography\n",
    "    hex_size_km = 0.174 * 2  # Approximate diameter of res 9 hexagon in km\n",
    "    k = int(np.ceil(radius_km / hex_size_km))\n",
    "\n",
    "    # Get k-ring indices\n",
    "    k_ring = h3.k_ring(center_h3, k)\n",
    "\n",
    "    # Filter restaurants within these H3 indices\n",
    "    h3_col = f'h3_index_{resolution}'\n",
    "    if h3_col not in df_h3.columns:\n",
    "        df_h3[h3_col] = df_h3.apply(\n",
    "            lambda row: h3.geo_to_h3(row['latitude'], row['longitude'], resolution),\n",
    "            axis=1\n",
    "        )\n",
    "\n",
    "    restaurants_in_radius = df_h3[df_h3[h3_col].isin(k_ring)]\n",
    "\n",
    "    print(f\"\\nSpatial search around ({point_lat}, {point_lng}) with {radius_km}km radius:\")\n",
    "    print(f\"Using H3 resolution {resolution}, k-ring size {k}\")\n",
    "    print(f\"Found {len(restaurants_in_radius)} restaurants within radius\")\n",
    "\n",
    "    # Create a visualization of the search area\n",
    "    m = folium.Map(location=[point_lat, point_lng], zoom_start=12)\n",
    "\n",
    "    # Add a marker for the center point\n",
    "    folium.Marker(\n",
    "        [point_lat, point_lng],\n",
    "        popup=\"Search Center\",\n",
    "        icon=folium.Icon(color=\"red\", icon=\"info-sign\")\n",
    "    ).add_to(m)\n",
    "\n",
    "    # Add hexagons in the k-ring\n",
    "    for h3_index in k_ring:\n",
    "        boundary = h3.h3_to_geo_boundary(h3_index, geo_json=True)\n",
    "        folium.Polygon(\n",
    "            locations=boundary,\n",
    "            fill=True,\n",
    "            fill_color='blue',\n",
    "            fill_opacity=0.2,\n",
    "            color='black',\n",
    "            weight=1\n",
    "        ).add_to(m)\n",
    "\n",
    "    # Add restaurant markers\n",
    "    for _, row in restaurants_in_radius.iterrows():\n",
    "        folium.CircleMarker(\n",
    "            [row['latitude'], row['longitude']],\n",
    "            radius=3,\n",
    "            color='green',\n",
    "            fill=True,\n",
    "            fill_color='green',\n",
    "            fill_opacity=0.7,\n",
    "            tooltip=f\"{row['name']} - {row['Rcuisine']}\"\n",
    "        ).add_to(m)\n",
    "\n",
    "    # Draw an approximate circle for the search radius\n",
    "    folium.Circle(\n",
    "        [point_lat, point_lng],\n",
    "        radius=radius_km * 1000,  # Convert to meters\n",
    "        color='red',\n",
    "        fill=False,\n",
    "        weight=2\n",
    "    ).add_to(m)\n",
    "\n",
    "    # Save the map\n",
    "    output_file = f\"spatial_search_map_{radius_km}km_res{resolution}.html\"\n",
    "    m.save(output_file)\n",
    "    print(f\"Search visualization saved to {output_file}\")\n",
    "\n",
    "    return restaurants_in_radius, output_file"
   ],
   "id": "1d8758409bff78e8",
   "outputs": [],
   "execution_count": 8
  },
  {
   "metadata": {
    "ExecuteTime": {
     "end_time": "2025-04-25T10:30:54.392604Z",
     "start_time": "2025-04-25T10:30:54.384855Z"
    }
   },
   "cell_type": "code",
   "source": [
    "def convert_to_geodataframe(df_h3, resolution=9):\n",
    "    \"\"\"Convert H3 indexed data to a GeoDataFrame for GIS operations\"\"\"\n",
    "    h3_col = f'h3_index_{resolution}'\n",
    "\n",
    "    # Ensure we have the H3 index column\n",
    "    if h3_col not in df_h3.columns:\n",
    "        df_h3[h3_col] = df_h3.apply(\n",
    "            lambda row: h3.geo_to_h3(row['latitude'], row['longitude'], resolution),\n",
    "            axis=1\n",
    "        )\n",
    "\n",
    "    # Group by H3 index and count restaurants\n",
    "    h3_grouped = df_h3.groupby(h3_col).size().reset_index(name='restaurant_count')\n",
    "\n",
    "    # Create a list to store polygon geometries\n",
    "    polygons = []\n",
    "\n",
    "    # Convert each H3 index to a polygon\n",
    "    for h3_index in h3_grouped[h3_col]:\n",
    "        # Get hexagon boundary as a list of [lat, lng] pairs\n",
    "        boundary = h3.h3_to_geo_boundary(h3_index, geo_json=True)\n",
    "        # Convert to a Shapely Polygon\n",
    "        polygon = Polygon([(lng, lat) for lat, lng in boundary])\n",
    "        polygons.append(polygon)\n",
    "\n",
    "    # Add the geometry column to create a GeoDataFrame\n",
    "    h3_grouped['geometry'] = polygons\n",
    "    gdf = gpd.GeoDataFrame(h3_grouped, geometry='geometry')\n",
    "\n",
    "    # Set the coordinate reference system (CRS) to WGS84\n",
    "    gdf.crs = \"EPSG:4326\"\n",
    "\n",
    "    print(f\"\\nCreated GeoDataFrame with {len(gdf)} H3 hexagons at resolution {resolution}\")\n",
    "\n",
    "    # Save the GeoDataFrame to a GeoJSON file\n",
    "    output_file = f\"restaurant_h3_res{resolution}.geojson\"\n",
    "    gdf.to_file(output_file, driver='GeoJSON')\n",
    "    print(f\"GeoJSON saved to {output_file}\")\n",
    "\n",
    "    return gdf"
   ],
   "id": "d76f3c7235469817",
   "outputs": [],
   "execution_count": 9
  },
  {
   "metadata": {
    "ExecuteTime": {
     "end_time": "2025-04-25T10:30:57.120564Z",
     "start_time": "2025-04-25T10:30:57.105156Z"
    }
   },
   "cell_type": "code",
   "source": [
    "def analyze_cuisine_diversity(df_h3, resolution=9):\n",
    "    \"\"\"Calculate cuisine diversity for each H3 cell\"\"\"\n",
    "    h3_col = f'h3_index_{resolution}'\n",
    "\n",
    "    # Ensure we have the H3 index column\n",
    "    if h3_col not in df_h3.columns:\n",
    "        df_h3[h3_col] = df_h3.apply(\n",
    "            lambda row: h3.geo_to_h3(row['latitude'], row['longitude'], resolution),\n",
    "            axis=1\n",
    "        )\n",
    "\n",
    "    # Function to calculate diversity (Shannon entropy)\n",
    "    def shannon_entropy(cuisines):\n",
    "        counts = Counter(cuisines)\n",
    "        total = sum(counts.values())\n",
    "        probabilities = [count/total for count in counts.values()]\n",
    "        entropy = -sum(p * np.log2(p) for p in probabilities if p > 0)\n",
    "        return entropy\n",
    "\n",
    "    # Group by H3 index and calculate diversity\n",
    "    h3_diversity = df_h3.groupby(h3_col).agg({\n",
    "        'Rcuisine': list,\n",
    "        'name': 'count'\n",
    "    }).reset_index()\n",
    "\n",
    "    # Calculate diversity for each cell\n",
    "    h3_diversity['cuisine_count'] = h3_diversity['Rcuisine'].apply(\n",
    "        lambda x: len(set(cuisine for cuisine in x if cuisine))\n",
    "    )\n",
    "    h3_diversity['diversity_index'] = h3_diversity['Rcuisine'].apply(\n",
    "        lambda x: shannon_entropy([cuisine for cuisine in x if cuisine])\n",
    "    )\n",
    "\n",
    "    # Sort by diversity index\n",
    "    h3_diversity_sorted = h3_diversity.sort_values('diversity_index', ascending=False)\n",
    "\n",
    "    print(\"\\nCuisine diversity analysis:\")\n",
    "    print(f\"Average number of cuisine types per H3 cell: {h3_diversity['cuisine_count'].mean():.2f}\")\n",
    "    print(f\"Maximum cuisine diversity index: {h3_diversity['diversity_index'].max():.2f}\")\n",
    "\n",
    "    # Show top diverse areas\n",
    "    print(\"\\nTop 5 most cuisine-diverse H3 cells:\")\n",
    "    for _, row in h3_diversity_sorted.head(5).iterrows():\n",
    "        cuisines = Counter([c for c in row['Rcuisine'] if c])\n",
    "        top_cuisines = \", \".join([f\"{cuisine} ({count})\" for cuisine, count in cuisines.most_common(3)])\n",
    "        print(f\"H3 index: {row[h3_col]}\")\n",
    "        print(f\"  Restaurants: {row['name']}, Cuisine types: {row['cuisine_count']}\")\n",
    "        print(f\"  Diversity index: {row['diversity_index']:.2f}\")\n",
    "        print(f\"  Top cuisines: {top_cuisines}\")\n",
    "\n",
    "    return h3_diversity_sorted"
   ],
   "id": "fc4614da8d19da0a",
   "outputs": [],
   "execution_count": 10
  },
  {
   "metadata": {
    "ExecuteTime": {
     "end_time": "2025-04-25T10:31:00.562275Z",
     "start_time": "2025-04-25T10:31:00.478789Z"
    }
   },
   "cell_type": "code",
   "source": [
    "file_path = 'synthesized_restaurants.csv'\n",
    "df = load_data(file_path)"
   ],
   "id": "acab3b752685676e",
   "outputs": [
    {
     "name": "stdout",
     "output_type": "stream",
     "text": [
      "Loading data from synthesized_restaurants.csv...\n",
      "Loaded 10095 records with valid coordinates.\n",
      "\n",
      "Data Overview:\n",
      "Latitude range: -55.54117053336248 to 83.41105043163341\n",
      "Longitude range: -179.93935123382323 to 179.57522644755096\n",
      "\n",
      "Top 10 countries by restaurant count:\n",
      "country\n",
      "Mexico    64\n",
      "?         19\n",
      "mexico    12\n",
      "Name: count, dtype: int64\n",
      "\n",
      "Top 10 cuisines:\n",
      "Rcuisine\n",
      "Mexican                 26\n",
      "Bar                      7\n",
      "Japanese                 5\n",
      "Fast_Food                5\n",
      "Seafood                  5\n",
      "Bar, Bar_Pub_Brewery     5\n",
      "Italian                  4\n",
      "International            4\n",
      "Cafeteria                4\n",
      "American                 4\n",
      "Name: count, dtype: int64\n"
     ]
    }
   ],
   "execution_count": 11
  },
  {
   "metadata": {
    "ExecuteTime": {
     "end_time": "2025-04-25T10:31:12.151911Z",
     "start_time": "2025-04-25T10:31:10.287158Z"
    }
   },
   "cell_type": "code",
   "source": [
    "# Add H3 indices at different resolutions\n",
    "resolutions = [6, 9, 12]  # Low, medium, and high resolutions\n",
    "df_h3 = add_h3_indices(df, resolutions)"
   ],
   "id": "83380d0cb2ba4915",
   "outputs": [
    {
     "name": "stdout",
     "output_type": "stream",
     "text": [
      "\n",
      "Generating H3 indices at resolutions: [6, 9, 12]...\n"
     ]
    },
    {
     "ename": "AttributeError",
     "evalue": "module 'h3' has no attribute 'geo_to_h3'",
     "output_type": "error",
     "traceback": [
      "\u001B[31m---------------------------------------------------------------------------\u001B[39m",
      "\u001B[31mAttributeError\u001B[39m                            Traceback (most recent call last)",
      "\u001B[36mCell\u001B[39m\u001B[36m \u001B[39m\u001B[32mIn[12]\u001B[39m\u001B[32m, line 3\u001B[39m\n\u001B[32m      1\u001B[39m \u001B[38;5;66;03m# Add H3 indices at different resolutions\u001B[39;00m\n\u001B[32m      2\u001B[39m resolutions = [\u001B[32m6\u001B[39m, \u001B[32m9\u001B[39m, \u001B[32m12\u001B[39m]  \u001B[38;5;66;03m# Low, medium, and high resolutions\u001B[39;00m\n\u001B[32m----> \u001B[39m\u001B[32m3\u001B[39m df_h3 = \u001B[43madd_h3_indices\u001B[49m\u001B[43m(\u001B[49m\u001B[43mdf\u001B[49m\u001B[43m,\u001B[49m\u001B[43m \u001B[49m\u001B[43mresolutions\u001B[49m\u001B[43m)\u001B[49m\n",
      "\u001B[36mCell\u001B[39m\u001B[36m \u001B[39m\u001B[32mIn[3]\u001B[39m\u001B[32m, line 11\u001B[39m, in \u001B[36madd_h3_indices\u001B[39m\u001B[34m(df, resolutions)\u001B[39m\n\u001B[32m      9\u001B[39m \u001B[38;5;28;01mfor\u001B[39;00m res \u001B[38;5;129;01min\u001B[39;00m resolutions:\n\u001B[32m     10\u001B[39m     col_name = \u001B[33mf\u001B[39m\u001B[33m'\u001B[39m\u001B[33mh3_index_\u001B[39m\u001B[38;5;132;01m{\u001B[39;00mres\u001B[38;5;132;01m}\u001B[39;00m\u001B[33m'\u001B[39m\n\u001B[32m---> \u001B[39m\u001B[32m11\u001B[39m     df_h3[col_name] = \u001B[43mdf_h3\u001B[49m\u001B[43m.\u001B[49m\u001B[43mapply\u001B[49m\u001B[43m(\u001B[49m\n\u001B[32m     12\u001B[39m \u001B[43m        \u001B[49m\u001B[38;5;28;43;01mlambda\u001B[39;49;00m\u001B[43m \u001B[49m\u001B[43mrow\u001B[49m\u001B[43m:\u001B[49m\u001B[43m \u001B[49m\u001B[43mh3\u001B[49m\u001B[43m.\u001B[49m\u001B[43mgeo_to_h3\u001B[49m\u001B[43m(\u001B[49m\u001B[43mrow\u001B[49m\u001B[43m[\u001B[49m\u001B[33;43m'\u001B[39;49m\u001B[33;43mlatitude\u001B[39;49m\u001B[33;43m'\u001B[39;49m\u001B[43m]\u001B[49m\u001B[43m,\u001B[49m\u001B[43m \u001B[49m\u001B[43mrow\u001B[49m\u001B[43m[\u001B[49m\u001B[33;43m'\u001B[39;49m\u001B[33;43mlongitude\u001B[39;49m\u001B[33;43m'\u001B[39;49m\u001B[43m]\u001B[49m\u001B[43m,\u001B[49m\u001B[43m \u001B[49m\u001B[43mres\u001B[49m\u001B[43m)\u001B[49m\u001B[43m,\u001B[49m\n\u001B[32m     13\u001B[39m \u001B[43m        \u001B[49m\u001B[43maxis\u001B[49m\u001B[43m=\u001B[49m\u001B[32;43m1\u001B[39;49m\n\u001B[32m     14\u001B[39m \u001B[43m    \u001B[49m\u001B[43m)\u001B[49m\n\u001B[32m     16\u001B[39m     \u001B[38;5;66;03m# Count unique hexagons at this resolution\u001B[39;00m\n\u001B[32m     17\u001B[39m     unique_hexagons = df_h3[col_name].nunique()\n",
      "\u001B[36mFile \u001B[39m\u001B[32m~/Projects/restaurants_review/h3_indexation/.env/lib/python3.13/site-packages/pandas/core/frame.py:10374\u001B[39m, in \u001B[36mDataFrame.apply\u001B[39m\u001B[34m(self, func, axis, raw, result_type, args, by_row, engine, engine_kwargs, **kwargs)\u001B[39m\n\u001B[32m  10360\u001B[39m \u001B[38;5;28;01mfrom\u001B[39;00m\u001B[38;5;250m \u001B[39m\u001B[34;01mpandas\u001B[39;00m\u001B[34;01m.\u001B[39;00m\u001B[34;01mcore\u001B[39;00m\u001B[34;01m.\u001B[39;00m\u001B[34;01mapply\u001B[39;00m\u001B[38;5;250m \u001B[39m\u001B[38;5;28;01mimport\u001B[39;00m frame_apply\n\u001B[32m  10362\u001B[39m op = frame_apply(\n\u001B[32m  10363\u001B[39m     \u001B[38;5;28mself\u001B[39m,\n\u001B[32m  10364\u001B[39m     func=func,\n\u001B[32m   (...)\u001B[39m\u001B[32m  10372\u001B[39m     kwargs=kwargs,\n\u001B[32m  10373\u001B[39m )\n\u001B[32m> \u001B[39m\u001B[32m10374\u001B[39m \u001B[38;5;28;01mreturn\u001B[39;00m \u001B[43mop\u001B[49m\u001B[43m.\u001B[49m\u001B[43mapply\u001B[49m\u001B[43m(\u001B[49m\u001B[43m)\u001B[49m.__finalize__(\u001B[38;5;28mself\u001B[39m, method=\u001B[33m\"\u001B[39m\u001B[33mapply\u001B[39m\u001B[33m\"\u001B[39m)\n",
      "\u001B[36mFile \u001B[39m\u001B[32m~/Projects/restaurants_review/h3_indexation/.env/lib/python3.13/site-packages/pandas/core/apply.py:916\u001B[39m, in \u001B[36mFrameApply.apply\u001B[39m\u001B[34m(self)\u001B[39m\n\u001B[32m    913\u001B[39m \u001B[38;5;28;01melif\u001B[39;00m \u001B[38;5;28mself\u001B[39m.raw:\n\u001B[32m    914\u001B[39m     \u001B[38;5;28;01mreturn\u001B[39;00m \u001B[38;5;28mself\u001B[39m.apply_raw(engine=\u001B[38;5;28mself\u001B[39m.engine, engine_kwargs=\u001B[38;5;28mself\u001B[39m.engine_kwargs)\n\u001B[32m--> \u001B[39m\u001B[32m916\u001B[39m \u001B[38;5;28;01mreturn\u001B[39;00m \u001B[38;5;28;43mself\u001B[39;49m\u001B[43m.\u001B[49m\u001B[43mapply_standard\u001B[49m\u001B[43m(\u001B[49m\u001B[43m)\u001B[49m\n",
      "\u001B[36mFile \u001B[39m\u001B[32m~/Projects/restaurants_review/h3_indexation/.env/lib/python3.13/site-packages/pandas/core/apply.py:1063\u001B[39m, in \u001B[36mFrameApply.apply_standard\u001B[39m\u001B[34m(self)\u001B[39m\n\u001B[32m   1061\u001B[39m \u001B[38;5;28;01mdef\u001B[39;00m\u001B[38;5;250m \u001B[39m\u001B[34mapply_standard\u001B[39m(\u001B[38;5;28mself\u001B[39m):\n\u001B[32m   1062\u001B[39m     \u001B[38;5;28;01mif\u001B[39;00m \u001B[38;5;28mself\u001B[39m.engine == \u001B[33m\"\u001B[39m\u001B[33mpython\u001B[39m\u001B[33m\"\u001B[39m:\n\u001B[32m-> \u001B[39m\u001B[32m1063\u001B[39m         results, res_index = \u001B[38;5;28;43mself\u001B[39;49m\u001B[43m.\u001B[49m\u001B[43mapply_series_generator\u001B[49m\u001B[43m(\u001B[49m\u001B[43m)\u001B[49m\n\u001B[32m   1064\u001B[39m     \u001B[38;5;28;01melse\u001B[39;00m:\n\u001B[32m   1065\u001B[39m         results, res_index = \u001B[38;5;28mself\u001B[39m.apply_series_numba()\n",
      "\u001B[36mFile \u001B[39m\u001B[32m~/Projects/restaurants_review/h3_indexation/.env/lib/python3.13/site-packages/pandas/core/apply.py:1081\u001B[39m, in \u001B[36mFrameApply.apply_series_generator\u001B[39m\u001B[34m(self)\u001B[39m\n\u001B[32m   1078\u001B[39m \u001B[38;5;28;01mwith\u001B[39;00m option_context(\u001B[33m\"\u001B[39m\u001B[33mmode.chained_assignment\u001B[39m\u001B[33m\"\u001B[39m, \u001B[38;5;28;01mNone\u001B[39;00m):\n\u001B[32m   1079\u001B[39m     \u001B[38;5;28;01mfor\u001B[39;00m i, v \u001B[38;5;129;01min\u001B[39;00m \u001B[38;5;28menumerate\u001B[39m(series_gen):\n\u001B[32m   1080\u001B[39m         \u001B[38;5;66;03m# ignore SettingWithCopy here in case the user mutates\u001B[39;00m\n\u001B[32m-> \u001B[39m\u001B[32m1081\u001B[39m         results[i] = \u001B[38;5;28;43mself\u001B[39;49m\u001B[43m.\u001B[49m\u001B[43mfunc\u001B[49m\u001B[43m(\u001B[49m\u001B[43mv\u001B[49m\u001B[43m,\u001B[49m\u001B[43m \u001B[49m\u001B[43m*\u001B[49m\u001B[38;5;28;43mself\u001B[39;49m\u001B[43m.\u001B[49m\u001B[43margs\u001B[49m\u001B[43m,\u001B[49m\u001B[43m \u001B[49m\u001B[43m*\u001B[49m\u001B[43m*\u001B[49m\u001B[38;5;28;43mself\u001B[39;49m\u001B[43m.\u001B[49m\u001B[43mkwargs\u001B[49m\u001B[43m)\u001B[49m\n\u001B[32m   1082\u001B[39m         \u001B[38;5;28;01mif\u001B[39;00m \u001B[38;5;28misinstance\u001B[39m(results[i], ABCSeries):\n\u001B[32m   1083\u001B[39m             \u001B[38;5;66;03m# If we have a view on v, we need to make a copy because\u001B[39;00m\n\u001B[32m   1084\u001B[39m             \u001B[38;5;66;03m#  series_generator will swap out the underlying data\u001B[39;00m\n\u001B[32m   1085\u001B[39m             results[i] = results[i].copy(deep=\u001B[38;5;28;01mFalse\u001B[39;00m)\n",
      "\u001B[36mCell\u001B[39m\u001B[36m \u001B[39m\u001B[32mIn[3]\u001B[39m\u001B[32m, line 12\u001B[39m, in \u001B[36madd_h3_indices.<locals>.<lambda>\u001B[39m\u001B[34m(row)\u001B[39m\n\u001B[32m      9\u001B[39m \u001B[38;5;28;01mfor\u001B[39;00m res \u001B[38;5;129;01min\u001B[39;00m resolutions:\n\u001B[32m     10\u001B[39m     col_name = \u001B[33mf\u001B[39m\u001B[33m'\u001B[39m\u001B[33mh3_index_\u001B[39m\u001B[38;5;132;01m{\u001B[39;00mres\u001B[38;5;132;01m}\u001B[39;00m\u001B[33m'\u001B[39m\n\u001B[32m     11\u001B[39m     df_h3[col_name] = df_h3.apply(\n\u001B[32m---> \u001B[39m\u001B[32m12\u001B[39m         \u001B[38;5;28;01mlambda\u001B[39;00m row: \u001B[43mh3\u001B[49m\u001B[43m.\u001B[49m\u001B[43mgeo_to_h3\u001B[49m(row[\u001B[33m'\u001B[39m\u001B[33mlatitude\u001B[39m\u001B[33m'\u001B[39m], row[\u001B[33m'\u001B[39m\u001B[33mlongitude\u001B[39m\u001B[33m'\u001B[39m], res),\n\u001B[32m     13\u001B[39m         axis=\u001B[32m1\u001B[39m\n\u001B[32m     14\u001B[39m     )\n\u001B[32m     16\u001B[39m     \u001B[38;5;66;03m# Count unique hexagons at this resolution\u001B[39;00m\n\u001B[32m     17\u001B[39m     unique_hexagons = df_h3[col_name].nunique()\n",
      "\u001B[31mAttributeError\u001B[39m: module 'h3' has no attribute 'geo_to_h3'"
     ]
    }
   ],
   "execution_count": 12
  },
  {
   "metadata": {},
   "cell_type": "code",
   "outputs": [],
   "execution_count": null,
   "source": [
    "# Analyze distribution at resolution 9 (medium granularity)\n",
    "h3_counts = analyze_h3_distribution(df_h3, resolution=9)"
   ],
   "id": "26d46b41041556d7"
  },
  {
   "metadata": {},
   "cell_type": "code",
   "outputs": [],
   "execution_count": null,
   "source": [
    "# Visualize the hexagons\n",
    "map_file = visualize_h3_hexagons(df_h3, resolution=9, max_hexagons=500)"
   ],
   "id": "3b204ab3ecc80bfb"
  },
  {
   "metadata": {},
   "cell_type": "code",
   "outputs": [],
   "execution_count": null,
   "source": [
    "# Example: Query restaurants in a specific H3 cell\n",
    "# Find a populated H3 cell to query\n",
    "sample_h3 = h3_counts.index[0]  # Get the most populated cell\n",
    "restaurants_in_cell = query_restaurants_in_h3_cell(df_h3, sample_h3)"
   ],
   "id": "e2e94c620a374640"
  },
  {
   "metadata": {},
   "cell_type": "code",
   "outputs": [],
   "execution_count": null,
   "source": [
    "# Example: Spatial search\n",
    "# Use a popular location (e.g., Times Square, NYC)\n",
    "sample_lat, sample_lng = 40.7580, -73.9855  # Times Square coordinates\n",
    "nearby_restaurants, search_map = perform_spatial_analysis(\n",
    "    df_h3, sample_lat, sample_lng, radius_km=1, resolution=9\n",
    ")"
   ],
   "id": "f004a78b365678ae"
  },
  {
   "metadata": {},
   "cell_type": "code",
   "outputs": [],
   "execution_count": null,
   "source": [
    "# Convert to GeoDataFrame for advanced GIS analysis\n",
    "gdf = convert_to_geodataframe(df_h3, resolution=9)"
   ],
   "id": "899935536c2b2cee"
  },
  {
   "metadata": {},
   "cell_type": "code",
   "outputs": [],
   "execution_count": null,
   "source": [
    "# Analyze cuisine diversity\n",
    "diversity_data = analyze_cuisine_diversity(df_h3, resolution=9)\n",
    "\n",
    "print(\"\\nH3 indexing workflow completed!\")\n",
    "print(\"Files generated:\")\n",
    "print(f\"- {map_file} (H3 visualization)\")\n",
    "print(f\"- {search_map} (Spatial search visualization)\")\n",
    "print(\"- restaurant_h3_res9.geojson (GeoJSON with H3 data)\")"
   ],
   "id": "225fa01f369521af"
  }
 ],
 "metadata": {
  "kernelspec": {
   "display_name": "Python 3",
   "language": "python",
   "name": "python3"
  },
  "language_info": {
   "codemirror_mode": {
    "name": "ipython",
    "version": 2
   },
   "file_extension": ".py",
   "mimetype": "text/x-python",
   "name": "python",
   "nbconvert_exporter": "python",
   "pygments_lexer": "ipython2",
   "version": "2.7.6"
  }
 },
 "nbformat": 4,
 "nbformat_minor": 5
}
